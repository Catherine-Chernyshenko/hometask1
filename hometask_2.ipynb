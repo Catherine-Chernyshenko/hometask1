{
 "cells": [
  {
   "cell_type": "code",
   "execution_count": null,
   "id": "287afa07",
   "metadata": {},
   "outputs": [],
   "source": [
    "Task 1"
   ]
  },
  {
   "cell_type": "code",
   "execution_count": null,
   "id": "294d1cd4",
   "metadata": {},
   "outputs": [],
   "source": [
    "import numpy as np\n",
    "import math\n",
    "z=np.random.random((10,3))\n",
    "r=1000\n",
    "for i in range (len(z)):\n",
    "    for j in range (len(z[i])):\n",
    "        if r>abs(z[i][j]-0.5):\n",
    "            r=abs(z[i][j]-0.5)\n",
    "            q=z[i][j]\n",
    "    print (q)"
   ]
  },
  {
   "cell_type": "code",
   "execution_count": null,
   "id": "98f12daa",
   "metadata": {},
   "outputs": [],
   "source": [
    "Task 2"
   ]
  },
  {
   "cell_type": "code",
   "execution_count": null,
   "id": "b0a75567",
   "metadata": {},
   "outputs": [],
   "source": [
    "import numpy as np\n",
    "import math\n",
    "z=np.random.random((6,6))\n",
    "t=z.transpose()\n",
    "for i in range (len(z)):\n",
    "    q=(np.sum(z[i]))/(np.min(t[i]))\n",
    "    print (q)"
   ]
  },
  {
   "cell_type": "code",
   "execution_count": null,
   "id": "75370535",
   "metadata": {},
   "outputs": [],
   "source": [
    "Task 3"
   ]
  },
  {
   "cell_type": "code",
   "execution_count": null,
   "id": "0580ea76",
   "metadata": {},
   "outputs": [],
   "source": [
    "import numpy as np\n",
    "import math\n",
    "m=0\n",
    "x = np.array([6, 2, 0, 3, 0, 0, 5, 7, 0])\n",
    "for i in range (1,len(x),1):\n",
    "    if x[i]>=m and x[i-1]==0:\n",
    "        m=x[i]\n",
    "print (m)"
   ]
  },
  {
   "cell_type": "code",
   "execution_count": null,
   "id": "7e51d40f",
   "metadata": {},
   "outputs": [],
   "source": [
    "Task 4"
   ]
  },
  {
   "cell_type": "code",
   "execution_count": null,
   "id": "82502181",
   "metadata": {},
   "outputs": [],
   "source": [
    "import numpy as np\n",
    "import math\n",
    "x = np.ones(10) \n",
    "i = np.array([0, 1, 2, 3, 5, 5, 5, 8])\n",
    "for j in range (len(i)):\n",
    "    x[i[j]]=x[i[j]]+1\n",
    "print(x)\n"
   ]
  }
 ],
 "metadata": {
  "kernelspec": {
   "display_name": "Python 3",
   "language": "python",
   "name": "python3"
  },
  "language_info": {
   "codemirror_mode": {
    "name": "ipython",
    "version": 3
   },
   "file_extension": ".py",
   "mimetype": "text/x-python",
   "name": "python",
   "nbconvert_exporter": "python",
   "pygments_lexer": "ipython3",
   "version": "3.8.8"
  }
 },
 "nbformat": 4,
 "nbformat_minor": 5
}
