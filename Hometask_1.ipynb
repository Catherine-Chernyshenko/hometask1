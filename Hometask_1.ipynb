{
 "cells": [
  {
   "cell_type": "code",
   "execution_count": 3,
   "id": "53f5df04",
   "metadata": {},
   "outputs": [],
   "source": [
    "\n",
    "class Test:\n",
    "  @staticmethod\n",
    "  def assert_equals(a, b, *args, **kwargs):\n",
    "    assert a == b\n",
    "    print('Passed')"
   ]
  },
  {
   "cell_type": "markdown",
   "id": "9722bb66",
   "metadata": {},
   "source": [
    "https://edabit.com/challenge/y9Rans4Ry5oW74cat (1 балл)"
   ]
  },
  {
   "cell_type": "code",
   "execution_count": 4,
   "id": "632681ce",
   "metadata": {},
   "outputs": [],
   "source": [
    "def min_max(nums):\n",
    "\tminimum = nums[0]\n",
    "\tmaximum = nums[0]\n",
    "\tlistn = []\n",
    "\tfor i in range (len(nums)):\n",
    "\t\tif nums[i] <= minimum:\n",
    "\t\t\tminimum = nums[i]\n",
    "\t\tif nums[i] >= maximum:\n",
    "\t\t\tmaximum = nums[i]\n",
    "\tlistn.append(minimum)\n",
    "\tlistn.append(maximum)\n",
    "\treturn (listn)"
   ]
  },
  {
   "cell_type": "code",
   "execution_count": 5,
   "id": "62b2bc46",
   "metadata": {},
   "outputs": [
    {
     "name": "stdout",
     "output_type": "stream",
     "text": [
      "Passed\n",
      "Passed\n",
      "Passed\n",
      "Passed\n",
      "Passed\n",
      "Passed\n",
      "Passed\n"
     ]
    }
   ],
   "source": [
    "Test.assert_equals(min_max([14, 35, 6, 1, 34, 54]), [1, 54])\n",
    "Test.assert_equals(min_max([1.346, 1.6532, 1.8734, 1.8723]), [1.346, 1.8734])\n",
    "Test.assert_equals(min_max([0.432, 0.874, 0.523, 0.984, 0.327, 0.2345]), [0.2345, 0.984])\n",
    "Test.assert_equals(min_max([13, 72, 98, 43, 24, 65, 31]), [13, 98])\n",
    "Test.assert_equals(min_max([-54, -23, -54, -21]), [-54, -21])\n",
    "Test.assert_equals(min_max([-0.473, -0.6834, -0.1287, 0.5632]), [-0.6834, 0.5632])\n",
    "Test.assert_equals(min_max([0, 0, 0, 0]), [0, 0])"
   ]
  },
  {
   "cell_type": "markdown",
   "id": "162ca3e0",
   "metadata": {},
   "source": [
    "https://edabit.com/challenge/9f3Mi6vHNcm8vRcSh (1 балл)"
   ]
  },
  {
   "cell_type": "code",
   "execution_count": 6,
   "id": "8e1f4795",
   "metadata": {},
   "outputs": [],
   "source": [
    "def number_split(n):\n",
    "\tlistn = []\n",
    "\tif n%2==0:\n",
    "\t\tlistn.append(n//2)\n",
    "\t\tlistn.append(n//2)\n",
    "\telse:\n",
    "\t\tlistn.append(n//2)\n",
    "\t\tlistn.append(n//2+1)\n",
    "\treturn (listn)"
   ]
  },
  {
   "cell_type": "code",
   "execution_count": 7,
   "id": "6d5c5f6b",
   "metadata": {},
   "outputs": [
    {
     "name": "stdout",
     "output_type": "stream",
     "text": [
      "Passed\n",
      "Passed\n",
      "Passed\n",
      "Passed\n",
      "Passed\n",
      "Passed\n",
      "Passed\n",
      "Passed\n"
     ]
    }
   ],
   "source": [
    "Test.assert_equals(number_split(4), [2, 2])\n",
    "Test.assert_equals(number_split(10), [5, 5])\n",
    "Test.assert_equals(number_split(11), [5, 6])\n",
    "Test.assert_equals(number_split(0), [0, 0])\n",
    "Test.assert_equals(number_split(1), [0, 1])\n",
    "Test.assert_equals(number_split(-4), [-2, -2])\n",
    "Test.assert_equals(number_split(-5), [-3, -2])\n",
    "Test.assert_equals(number_split(-9), [-5, -4])"
   ]
  },
  {
   "cell_type": "markdown",
   "id": "6766d5e4",
   "metadata": {},
   "source": [
    "https://edabit.com/challenge/pihNcNQXiYHSRW8Cv (1 балл)"
   ]
  },
  {
   "cell_type": "code",
   "execution_count": 8,
   "id": "8f548aad",
   "metadata": {},
   "outputs": [],
   "source": [
    "def sort_by_length(lst):\n",
    "\tif lst == []:\n",
    "\t\treturn ([])\n",
    "\telse:\n",
    "\t\tlst.sort(key=len)\n",
    "\t\treturn lst"
   ]
  },
  {
   "cell_type": "code",
   "execution_count": 9,
   "id": "a81f375a",
   "metadata": {},
   "outputs": [
    {
     "name": "stdout",
     "output_type": "stream",
     "text": [
      "Passed\n",
      "Passed\n",
      "Passed\n",
      "Passed\n",
      "Passed\n"
     ]
    }
   ],
   "source": [
    "Test.assert_equals(sort_by_length([\"a\", \"ccc\", \"dddd\", \"bb\"]), [\"a\", \"bb\", \"ccc\", \"dddd\"])\n",
    "Test.assert_equals(sort_by_length([\"apple\", \"pie\", \"shortcake\"]), [\"pie\", \"apple\", \"shortcake\"])\n",
    "Test.assert_equals(sort_by_length([\"may\", \"april\", \"september\", \"august\"]), [\"may\", \"april\", \"august\", \"september\"])\n",
    "Test.assert_equals(sort_by_length([\"maybe\"]), [\"maybe\"])\n",
    "Test.assert_equals(sort_by_length([]), [])"
   ]
  },
  {
   "cell_type": "markdown",
   "id": "04e3e1dd",
   "metadata": {},
   "source": [
    "https://edabit.com/challenge/8BtPaRSGwbhF57yie (1 балл)"
   ]
  },
  {
   "cell_type": "code",
   "execution_count": 10,
   "id": "8719e45a",
   "metadata": {},
   "outputs": [],
   "source": [
    "def match_houses(step):\n",
    "\tif step == 0:\n",
    "\t\treturn 0\n",
    "\telse:\n",
    "\t\treturn (6+5*(step-1))"
   ]
  },
  {
   "cell_type": "code",
   "execution_count": 11,
   "id": "054c1262",
   "metadata": {},
   "outputs": [
    {
     "name": "stdout",
     "output_type": "stream",
     "text": [
      "Passed\n",
      "Passed\n",
      "Passed\n",
      "Passed\n",
      "Passed\n",
      "Passed\n",
      "Passed\n",
      "Passed\n"
     ]
    }
   ],
   "source": [
    "Test.assert_equals(match_houses(1), 6)\n",
    "Test.assert_equals(match_houses(0), 0)\n",
    "Test.assert_equals(match_houses(17), 86)\n",
    "Test.assert_equals(match_houses(36), 181)\n",
    "Test.assert_equals(match_houses(15), 76)\n",
    "Test.assert_equals(match_houses(99), 496)\n",
    "Test.assert_equals(match_houses(3), 16)\n",
    "Test.assert_equals(match_houses(87), 436)"
   ]
  },
  {
   "cell_type": "markdown",
   "id": "48ce2dcb",
   "metadata": {},
   "source": [
    "https://edabit.com/challenge/NgSdtW84XFAnSwAie (1 балл)"
   ]
  },
  {
   "cell_type": "code",
   "execution_count": 12,
   "id": "dddf58df",
   "metadata": {},
   "outputs": [],
   "source": [
    "def largest_swap(num):\n",
    "\tif num >= (num%10*10+num//10):\n",
    "\t\treturn True\n",
    "\telse:\n",
    "\t\treturn False"
   ]
  },
  {
   "cell_type": "code",
   "execution_count": 13,
   "id": "3e39e15f",
   "metadata": {},
   "outputs": [
    {
     "name": "stdout",
     "output_type": "stream",
     "text": [
      "Passed\n",
      "Passed\n",
      "Passed\n",
      "Passed\n",
      "Passed\n"
     ]
    }
   ],
   "source": [
    "Test.assert_equals(largest_swap(27), False, '27 < 72, so not largest swap.')\n",
    "Test.assert_equals(largest_swap(43), True, '43 > 34, so largest swap.')\n",
    "Test.assert_equals(largest_swap(14), False, '14 < 41, so not largest swap.')\n",
    "Test.assert_equals(largest_swap(53), True, '53 > 35, so largest swap.')\n",
    "Test.assert_equals(largest_swap(99), True, 'Cannot do better, so largest swap.')"
   ]
  },
  {
   "cell_type": "markdown",
   "id": "aebf4345",
   "metadata": {},
   "source": [
    "https://edabit.com/challenge/zqMREZ2MQd9M5jNfM (1 балл)"
   ]
  },
  {
   "cell_type": "code",
   "execution_count": 14,
   "id": "7558ff64",
   "metadata": {},
   "outputs": [],
   "source": [
    "def is_symmetrical(num):\n",
    "\ts=str(num)\n",
    "\tq = 1\n",
    "\tfor i in range (0,len(s)//2+1,1):\n",
    "\t\t\tif s[i] != s[len(s)-1-i]:\n",
    "\t\t\t\tq = 0\n",
    "\tif q == 0:\n",
    "\t\treturn False\n",
    "\telse:\n",
    "\t\treturn True"
   ]
  },
  {
   "cell_type": "code",
   "execution_count": 15,
   "id": "3b8442f9",
   "metadata": {},
   "outputs": [
    {
     "name": "stdout",
     "output_type": "stream",
     "text": [
      "Passed\n",
      "Passed\n",
      "Passed\n",
      "Passed\n",
      "Passed\n",
      "Passed\n",
      "Passed\n"
     ]
    }
   ],
   "source": [
    "Test.assert_equals(is_symmetrical(23), False)\n",
    "Test.assert_equals(is_symmetrical(9562), False)\n",
    "Test.assert_equals(is_symmetrical(10019), False)\n",
    "Test.assert_equals(is_symmetrical(1), True)\n",
    "Test.assert_equals(is_symmetrical(3223), True)\n",
    "Test.assert_equals(is_symmetrical(95559), True)\n",
    "Test.assert_equals(is_symmetrical(66566), True)"
   ]
  },
  {
   "cell_type": "markdown",
   "id": "bcd4c5fd",
   "metadata": {},
   "source": [
    "https://edabit.com/challenge/TJxPyuusqjtWF9rff (1 балл)"
   ]
  },
  {
   "cell_type": "code",
   "execution_count": 16,
   "id": "02c00a9c",
   "metadata": {},
   "outputs": [],
   "source": [
    "def get_only_evens(nums):\n",
    "\tlistn = []\n",
    "\tfor i in range (0, len(nums),1):\n",
    "\t\tif i%2==0 and nums[i]%2==0:\n",
    "\t\t\tlistn.append(nums[i])\n",
    "\treturn listn"
   ]
  },
  {
   "cell_type": "code",
   "execution_count": 17,
   "id": "99f33575",
   "metadata": {},
   "outputs": [
    {
     "name": "stdout",
     "output_type": "stream",
     "text": [
      "Passed\n",
      "Passed\n",
      "Passed\n",
      "Passed\n",
      "Passed\n",
      "Passed\n",
      "Passed\n",
      "Passed\n",
      "Passed\n",
      "Passed\n",
      "Passed\n",
      "Passed\n",
      "Passed\n",
      "Passed\n",
      "Passed\n",
      "Passed\n",
      "Passed\n",
      "Passed\n",
      "Passed\n",
      "Passed\n",
      "Passed\n",
      "Passed\n",
      "Passed\n",
      "Passed\n",
      "Passed\n",
      "Passed\n",
      "Passed\n",
      "Passed\n",
      "Passed\n",
      "Passed\n",
      "Passed\n",
      "Passed\n",
      "Passed\n"
     ]
    }
   ],
   "source": [
    "Test.assert_equals(get_only_evens([1, 3, 2, 6, 4, 8]), [2, 4])\n",
    "Test.assert_equals(get_only_evens([0, 1, 2, 3, 4]), [0, 2, 4])\n",
    "Test.assert_equals(get_only_evens([1, 2, 3, 4, 5]), [])\n",
    "Test.assert_equals(get_only_evens([37, 26, 18, 42, 2, 30]), [18, 2])\n",
    "Test.assert_equals(get_only_evens([49, 41, 30, 44, 26, 0, 5]), [30, 26])\n",
    "Test.assert_equals(get_only_evens([47, 47, 12, 3, 48]), [12, 48])\n",
    "Test.assert_equals(get_only_evens([30, 26, 0, 13, 20, 38, 50, 2]), [30, 0, 20, 50])\n",
    "Test.assert_equals(get_only_evens([34, 21, 38, 28, 13, 8, 26, 29, 24, 5]), [34, 38, 26, 24])\n",
    "Test.assert_equals(get_only_evens([47, 31, 24, 37, 29, 41, 31, 49, 4, 24]), [24, 4])\n",
    "Test.assert_equals(get_only_evens([45, 47, 20, 49]), [20])\n",
    "Test.assert_equals(get_only_evens([20, 14, 10, 32, 28, 6, 49, 5, 46]), [20, 10, 28, 46])\n",
    "Test.assert_equals(get_only_evens([39, 45, 5]), [])\n",
    "Test.assert_equals(get_only_evens([45, 3, 50, 15, 49]), [50])\n",
    "Test.assert_equals(get_only_evens([45, 25, 10, 47, 24, 30, 28, 48]), [10, 24, 28])\n",
    "Test.assert_equals(get_only_evens([10, 16, 9, 40, 28, 21, 37, 4, 45]), [10, 28])\n",
    "Test.assert_equals(get_only_evens([31, 25, 19, 49, 50, 22]), [50])\n",
    "Test.assert_equals(get_only_evens([38, 36, 8, 34, 8, 45, 4, 45, 2, 9]), [38, 8, 8, 4, 2])\n",
    "Test.assert_equals(get_only_evens([38, 21, 50, 14]), [38, 50])\n",
    "Test.assert_equals(get_only_evens([24, 16, 32, 14, 32, 42, 13, 33, 13, 39]), [24, 32, 32])\n",
    "Test.assert_equals(get_only_evens([38, 24, 4, 49, 5, 33, 1, 10, 3]), [38, 4])\n",
    "Test.assert_equals(get_only_evens([46]), [46])\n",
    "Test.assert_equals(get_only_evens([13, 6, 12, 23, 31, 14, 2]), [12, 2])\n",
    "Test.assert_equals(get_only_evens([7, 1, 34, 14, 26, 3, 7, 7]), [34, 26])\n",
    "Test.assert_equals(get_only_evens([31, 11, 26, 19, 45, 12]), [26])\n",
    "Test.assert_equals(get_only_evens([22]), [22])\n",
    "Test.assert_equals(get_only_evens([29, 11]), [])\n",
    "Test.assert_equals(get_only_evens([6, 6, 37, 10, 4]), [6, 4])\n",
    "Test.assert_equals(get_only_evens([6, 46, 12, 47, 49, 26, 40, 28, 38]), [6, 12, 40, 38])\n",
    "Test.assert_equals(get_only_evens([31]), [])\n",
    "Test.assert_equals(get_only_evens([28, 44, 4, 31, 30, 46, 37]), [28, 4, 30])\n",
    "Test.assert_equals(get_only_evens([24]), [24])\n",
    "Test.assert_equals(get_only_evens([23, 41, 49, 5, 0, 46, 15, 15]), [0])\n",
    "Test.assert_equals(get_only_evens([44, 39, 15]), [44])"
   ]
  },
  {
   "cell_type": "markdown",
   "id": "cea2f041",
   "metadata": {},
   "source": [
    "https://edabit.com/challenge/h4SrMDnwPpmotn2cZ (1 балл)"
   ]
  },
  {
   "cell_type": "code",
   "execution_count": 18,
   "id": "8b488919",
   "metadata": {},
   "outputs": [],
   "source": [
    "def sum_of_cubes(nums):\n",
    "\tq = 0\n",
    "\tif nums == []:\n",
    "\t\treturn 0\n",
    "\telse:\n",
    "\t\tfor i in range (len(nums)):\n",
    "\t\t\tq=q+nums[i]**3\n",
    "\t\treturn q"
   ]
  },
  {
   "cell_type": "code",
   "execution_count": 19,
   "id": "d9e37568",
   "metadata": {},
   "outputs": [
    {
     "name": "stdout",
     "output_type": "stream",
     "text": [
      "Passed\n",
      "Passed\n",
      "Passed\n",
      "Passed\n",
      "Passed\n",
      "Passed\n",
      "Passed\n",
      "Passed\n",
      "Passed\n"
     ]
    }
   ],
   "source": [
    "Test.assert_equals(sum_of_cubes([1, 5, 9]), 855)\n",
    "Test.assert_equals(sum_of_cubes([3, 4, 5]), 216)\n",
    "Test.assert_equals(sum_of_cubes([1, 1, 1]), 3)\n",
    "Test.assert_equals(sum_of_cubes([2]), 8)\n",
    "Test.assert_equals(sum_of_cubes([5, 1, 2]), 134)\n",
    "Test.assert_equals(sum_of_cubes([32]), 32768)\n",
    "Test.assert_equals(sum_of_cubes([5, 9, 4, 4, 9]), 1711)\n",
    "Test.assert_equals(sum_of_cubes([0, 1, 2]), 9)\n",
    "Test.assert_equals(sum_of_cubes([]), 0)"
   ]
  },
  {
   "cell_type": "markdown",
   "id": "8fa9edd1",
   "metadata": {},
   "source": [
    "https://edabit.com/challenge/pYwnLBJHBbHaEEano (1 балл)"
   ]
  },
  {
   "cell_type": "code",
   "execution_count": 20,
   "id": "fd23df5a",
   "metadata": {},
   "outputs": [],
   "source": [
    "def hash_plus_count(txt):\n",
    "\tp = 0\n",
    "\tq = 0\n",
    "\tlistn = []\n",
    "\tif txt == \"\":\n",
    "\t\treturn [0,0]\n",
    "\telse:\n",
    "\t\tfor i in range (len(txt)):\n",
    "\t\t\tif txt[i]==\"#\":\n",
    "\t\t\t\tp=p+1\n",
    "\t\t\tif txt[i]==\"+\":\n",
    "\t\t\t\tq=q+1\n",
    "\t\tlistn.append(p)\n",
    "\t\tlistn.append(q)\n",
    "\t\treturn listn"
   ]
  },
  {
   "cell_type": "code",
   "execution_count": 21,
   "id": "d1984fbc",
   "metadata": {},
   "outputs": [
    {
     "name": "stdout",
     "output_type": "stream",
     "text": [
      "Passed\n",
      "Passed\n",
      "Passed\n",
      "Passed\n",
      "Passed\n",
      "Passed\n",
      "Passed\n",
      "Passed\n",
      "Passed\n"
     ]
    }
   ],
   "source": [
    "Test.assert_equals(hash_plus_count(\"####\"), [4, 0])\n",
    "Test.assert_equals(hash_plus_count(\"#\"), [1, 0])\n",
    "Test.assert_equals(hash_plus_count(\"+++++++\"), [0, 7])\n",
    "Test.assert_equals(hash_plus_count(\"++\"), [0, 2])\n",
    "Test.assert_equals(hash_plus_count(\"#+#+\"), [2, 2])\n",
    "Test.assert_equals(hash_plus_count(\"###+\"), [3, 1])\n",
    "Test.assert_equals(hash_plus_count(\"##+++#\"), [3, 3])\n",
    "Test.assert_equals(hash_plus_count(\"#+++#+#++#\"), [4, 6])\n",
    "Test.assert_equals(hash_plus_count(\"\"), [0, 0])"
   ]
  },
  {
   "cell_type": "markdown",
   "id": "6f48569e",
   "metadata": {},
   "source": [
    "https://edabit.com/challenge/iqaQLvS7yfGR2wJyL (1 балл)"
   ]
  },
  {
   "cell_type": "code",
   "execution_count": 22,
   "id": "58d5ec44",
   "metadata": {},
   "outputs": [],
   "source": [
    "def num_of_digits(num):\n",
    "\tr=str(num)\n",
    "\tif r[0]!=\"-\":\n",
    "\t\tq=len(r)\n",
    "\telse:\n",
    "\t\tq=len(r)-1\n",
    "\treturn q"
   ]
  },
  {
   "cell_type": "code",
   "execution_count": 23,
   "id": "8c24a68a",
   "metadata": {},
   "outputs": [
    {
     "name": "stdout",
     "output_type": "stream",
     "text": [
      "Passed\n",
      "Passed\n",
      "Passed\n",
      "Passed\n",
      "Passed\n",
      "Passed\n",
      "Passed\n",
      "Passed\n",
      "Passed\n",
      "Passed\n"
     ]
    }
   ],
   "source": [
    "Test.assert_equals(num_of_digits(13124), 5)\n",
    "Test.assert_equals(num_of_digits(0), 1)\n",
    "Test.assert_equals(num_of_digits(-12381428), 8)\n",
    "Test.assert_equals(num_of_digits(12), 2)\n",
    "Test.assert_equals(num_of_digits(42), 2)\n",
    "Test.assert_equals(num_of_digits(1000), 4)\n",
    "Test.assert_equals(num_of_digits(136), 3)\n",
    "Test.assert_equals(num_of_digits(1000000000), 10)\n",
    "Test.assert_equals(num_of_digits(2147483647), 10)\n",
    "Test.assert_equals(num_of_digits(-2147483647), 10)"
   ]
  },
  {
   "cell_type": "markdown",
   "id": "d597044d",
   "metadata": {},
   "source": [
    "https://edabit.com/challenge/PGXeFPN6buQDXXwPm (1 балл)"
   ]
  },
  {
   "cell_type": "code",
   "execution_count": 24,
   "id": "10484430",
   "metadata": {},
   "outputs": [],
   "source": [
    "def trace(lst):\n",
    "\tq=0\n",
    "\tfor i in range (len(lst)):\n",
    "\t\tfor j in range (len(lst[i])):\n",
    "\t\t\tif i==j:\n",
    "\t\t\t\tq=q+lst[i][i]\n",
    "\treturn q"
   ]
  },
  {
   "cell_type": "code",
   "execution_count": 25,
   "id": "ec0ea2dd",
   "metadata": {},
   "outputs": [
    {
     "name": "stdout",
     "output_type": "stream",
     "text": [
      "Passed\n",
      "Passed\n",
      "Passed\n",
      "Passed\n",
      "Passed\n",
      "Passed\n"
     ]
    }
   ],
   "source": [
    "Test.assert_equals(trace(\n",
    "\t[[1, 4],\n",
    "\t [4, 1]]\n",
    "), 2)\n",
    "\n",
    "Test.assert_equals(trace(\n",
    "\t[[1, 2, 3],\n",
    "\t [4, 5, 6],\n",
    "\t [7, 8, 9]]\n",
    "), 15)\n",
    "\n",
    "Test.assert_equals(trace(\n",
    "\t[[12345]],\n",
    "), 12345)\n",
    "\n",
    "Test.assert_equals(trace(\n",
    "\t[[1, 0, 1, 0],\n",
    "\t [0, 2, 0, 2],\n",
    "\t [3, 0, 3, 0],\n",
    "\t [0, 4, 0, 4]]\n",
    "), 10)\n",
    "\n",
    "Test.assert_equals(trace(\n",
    "\t[[0, 1, 0, 1],\n",
    "\t [2, 0, 2, 0],\n",
    "\t [0, 3, 0, 3],\n",
    "\t [4, 0, 4, 0]]\n",
    "), 0)\n",
    "\n",
    "Test.assert_equals(trace(\n",
    "\t[[1, 8,  9, 16],\n",
    "\t [2, 7, 10, 15],\n",
    "\t [3, 6, 11, 14],\n",
    "\t [4, 5, 12, 13]]\n",
    "), 32)"
   ]
  },
  {
   "cell_type": "markdown",
   "id": "576ec437",
   "metadata": {},
   "source": [
    "https://edabit.com/challenge/jyGco3e82sNfYKvCj (1 балл)"
   ]
  },
  {
   "cell_type": "code",
   "execution_count": 26,
   "id": "5a75f20f",
   "metadata": {},
   "outputs": [],
   "source": [
    "def rev(n):\n",
    "\tif n<0:\n",
    "\t\tn=n*(-1)\n",
    "\tq=\"\"\n",
    "\twhile (n!=0):\n",
    "\t\tq=q+str(n%10)\n",
    "\t\tn=n//10\n",
    "\treturn q"
   ]
  },
  {
   "cell_type": "code",
   "execution_count": 27,
   "id": "edfb79c5",
   "metadata": {},
   "outputs": [
    {
     "name": "stdout",
     "output_type": "stream",
     "text": [
      "Passed\n",
      "Passed\n",
      "Passed\n",
      "Passed\n",
      "Passed\n",
      "Passed\n",
      "Passed\n",
      "Passed\n"
     ]
    }
   ],
   "source": [
    "Test.assert_equals(rev(215), \"512\")\n",
    "Test.assert_equals(rev(122225), \"522221\")\n",
    "Test.assert_equals(rev(215), \"512\")\n",
    "Test.assert_equals(rev(-215), \"512\", \"Should work with negative numbers.\")\n",
    "Test.assert_equals(rev(-2152), \"2512\", \"Should work with negative numbers.\")\n",
    "Test.assert_equals(rev(-122157), \"751221\", \"Should work with negative numbers.\")\n",
    "Test.assert_equals(rev(666), \"666\", \"Should work if all digits are the same.\")\n",
    "Test.assert_equals(rev(999), \"999\", \"Should work if all digits are the same.\")"
   ]
  },
  {
   "cell_type": "markdown",
   "id": "109fa14b",
   "metadata": {},
   "source": [
    "https://edabit.com/challenge/wZQzNPXkLrHMj4mmz (1 балл)"
   ]
  },
  {
   "cell_type": "code",
   "execution_count": 28,
   "id": "261cf4f1",
   "metadata": {},
   "outputs": [],
   "source": [
    "def derivative(b, m):\n",
    "\treturn (b*m**(b-1))"
   ]
  },
  {
   "cell_type": "code",
   "execution_count": 29,
   "id": "7515a9f0",
   "metadata": {},
   "outputs": [
    {
     "name": "stdout",
     "output_type": "stream",
     "text": [
      "Passed\n",
      "Passed\n",
      "Passed\n",
      "Passed\n",
      "Passed\n",
      "Passed\n"
     ]
    }
   ],
   "source": [
    "Test.assert_equals(derivative(1, 4), 1)\n",
    "Test.assert_equals(derivative(3, -2), 12)\n",
    "Test.assert_equals(derivative(4, -3), -108)\n",
    "Test.assert_equals(derivative(9, -5), 3515625)\n",
    "Test.assert_equals(derivative(1254, 0), 0)\n",
    "Test.assert_equals(derivative(-2, 10), -0.002)"
   ]
  },
  {
   "cell_type": "markdown",
   "id": "d39d72fc",
   "metadata": {},
   "source": [
    "https://edabit.com/challenge/pPyAgyeNEvQsBytaR (1 балл)"
   ]
  },
  {
   "cell_type": "code",
   "execution_count": 30,
   "id": "4e5d3e5e",
   "metadata": {},
   "outputs": [],
   "source": [
    "def factorial(n):\n",
    "\tif n==0:\n",
    "\t\treturn 1\n",
    "\telse:\n",
    "\t\treturn n*factorial(n-1)"
   ]
  },
  {
   "cell_type": "code",
   "execution_count": 31,
   "id": "f62dd40d",
   "metadata": {},
   "outputs": [
    {
     "name": "stdout",
     "output_type": "stream",
     "text": [
      "Passed\n",
      "Passed\n",
      "Passed\n",
      "Passed\n"
     ]
    }
   ],
   "source": [
    "Test.assert_equals(factorial(5), 120)\n",
    "Test.assert_equals(factorial(3), 6)\n",
    "Test.assert_equals(factorial(1), 1)\n",
    "Test.assert_equals(factorial(0), 1)"
   ]
  },
  {
   "cell_type": "markdown",
   "id": "73c07fcc",
   "metadata": {},
   "source": [
    "https://edabit.com/challenge/NvK8xMFNbHrLPL28G (1 балл)"
   ]
  },
  {
   "cell_type": "code",
   "execution_count": 32,
   "id": "2e8686e1",
   "metadata": {},
   "outputs": [],
   "source": [
    "def highest_digit(num):\n",
    "\tmaximum = 0\n",
    "\twhile (num!=0):\n",
    "\t\tif num%10 >= maximum:\n",
    "\t\t\tmaximum = num%10\n",
    "\t\tnum=num//10\n",
    "\treturn maximum"
   ]
  },
  {
   "cell_type": "code",
   "execution_count": 33,
   "id": "cb534dd9",
   "metadata": {},
   "outputs": [
    {
     "name": "stdout",
     "output_type": "stream",
     "text": [
      "Passed\n",
      "Passed\n",
      "Passed\n",
      "Passed\n"
     ]
    }
   ],
   "source": [
    "Test.assert_equals(highest_digit(51), 5)\n",
    "Test.assert_equals(highest_digit(0), 0)\n",
    "Test.assert_equals(highest_digit(7495037), 9)\n",
    "Test.assert_equals(highest_digit(222222), 2)"
   ]
  },
  {
   "cell_type": "code",
   "execution_count": null,
   "id": "13ce9a24",
   "metadata": {},
   "outputs": [],
   "source": []
  }
 ],
 "metadata": {
  "kernelspec": {
   "display_name": "Python 3",
   "language": "python",
   "name": "python3"
  },
  "language_info": {
   "codemirror_mode": {
    "name": "ipython",
    "version": 3
   },
   "file_extension": ".py",
   "mimetype": "text/x-python",
   "name": "python",
   "nbconvert_exporter": "python",
   "pygments_lexer": "ipython3",
   "version": "3.8.8"
  }
 },
 "nbformat": 4,
 "nbformat_minor": 5
}
