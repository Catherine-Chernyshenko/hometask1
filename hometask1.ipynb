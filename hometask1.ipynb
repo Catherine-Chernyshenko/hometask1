{
 "cells": [
  {
   "cell_type": "code",
   "execution_count": null,
   "id": "13913562",
   "metadata": {},
   "outputs": [],
   "source": [
    "https://edabit.com/challenge/y9Rans4Ry5oW74cat"
   ]
  },
  {
   "cell_type": "code",
   "execution_count": 1,
   "id": "419a99b7",
   "metadata": {},
   "outputs": [],
   "source": [
    "def min_max(nums):\n",
    "\tminimum = nums[0]\n",
    "\tmaximum = nums[0]\n",
    "\tlistn = []\n",
    "\tfor i in range (len(nums)):\n",
    "\t\tif nums[i] <= minimum:\n",
    "\t\t\tminimum = nums[i]\n",
    "\t\tif nums[i] >= maximum:\n",
    "\t\t\tmaximum = nums[i]\n",
    "\tlistn.append(minimum)\n",
    "\tlistn.append(maximum)\n",
    "\treturn (listn)"
   ]
  },
  {
   "cell_type": "code",
   "execution_count": null,
   "id": "fc5dbf0e",
   "metadata": {},
   "outputs": [],
   "source": [
    "https://edabit.com/challenge/9f3Mi6vHNcm8vRcSh"
   ]
  },
  {
   "cell_type": "code",
   "execution_count": null,
   "id": "3c646ba6",
   "metadata": {},
   "outputs": [],
   "source": [
    "def number_split(n):\n",
    "\tlistn = []\n",
    "\tif n%2==0:\n",
    "\t\tlistn.append(n//2)\n",
    "\t\tlistn.append(n//2)\n",
    "\telse:\n",
    "\t\tlistn.append(n//2)\n",
    "\t\tlistn.append(n//2+1)\n",
    "\treturn (listn)"
   ]
  },
  {
   "cell_type": "code",
   "execution_count": null,
   "id": "9564d468",
   "metadata": {},
   "outputs": [],
   "source": [
    "https://edabit.com/challenge/pihNcNQXiYHSRW8Cv"
   ]
  },
  {
   "cell_type": "code",
   "execution_count": null,
   "id": "21a8156e",
   "metadata": {},
   "outputs": [],
   "source": [
    "def sort_by_length(lst):\n",
    "\tif lst == []:\n",
    "\t\treturn ([])\n",
    "\telse:\n",
    "\t\tlst.sort(key=len)\n",
    "\t\treturn lst\n",
    "\t\t\t\t"
   ]
  },
  {
   "cell_type": "code",
   "execution_count": null,
   "id": "50ec7874",
   "metadata": {},
   "outputs": [],
   "source": [
    "https://edabit.com/challenge/8BtPaRSGwbhF57yie"
   ]
  },
  {
   "cell_type": "code",
   "execution_count": null,
   "id": "680ec5ff",
   "metadata": {},
   "outputs": [],
   "source": [
    "def match_houses(step):\n",
    "\tif step == 0:\n",
    "\t\treturn 0\n",
    "\telse:\n",
    "\t\treturn (6+5*(step-1))"
   ]
  },
  {
   "cell_type": "code",
   "execution_count": null,
   "id": "783378e3",
   "metadata": {},
   "outputs": [],
   "source": [
    "https://edabit.com/challenge/NgSdtW84XFAnSwAie"
   ]
  },
  {
   "cell_type": "code",
   "execution_count": null,
   "id": "38377b19",
   "metadata": {},
   "outputs": [],
   "source": [
    "def largest_swap(num):\n",
    "\tif num >= (num%10*10+num//10):\n",
    "\t\treturn True\n",
    "\telse:\n",
    "\t\treturn False"
   ]
  },
  {
   "cell_type": "code",
   "execution_count": null,
   "id": "54188d19",
   "metadata": {},
   "outputs": [],
   "source": [
    "https://edabit.com/challenge/zqMREZ2MQd9M5jNfM"
   ]
  },
  {
   "cell_type": "code",
   "execution_count": null,
   "id": "905c78b2",
   "metadata": {},
   "outputs": [],
   "source": [
    "def is_symmetrical(num):\n",
    "\ts=str(num)\n",
    "\tq = 1\n",
    "\tfor i in range (0,len(s)//2+1,1):\n",
    "\t\t\tif s[i] != s[len(s)-1-i]:\n",
    "\t\t\t\tq = 0\n",
    "\tif q == 0:\n",
    "\t\treturn False\n",
    "\telse:\n",
    "\t\treturn True"
   ]
  },
  {
   "cell_type": "code",
   "execution_count": null,
   "id": "62c57e8c",
   "metadata": {},
   "outputs": [],
   "source": [
    "https://edabit.com/challenge/TJxPyuusqjtWF9rff"
   ]
  },
  {
   "cell_type": "code",
   "execution_count": null,
   "id": "8de303f3",
   "metadata": {},
   "outputs": [],
   "source": [
    "def get_only_evens(nums):\n",
    "\tlistn = []\n",
    "\tfor i in range (0, len(nums),1):\n",
    "\t\tif i%2==0 and nums[i]%2==0:\n",
    "\t\t\tlistn.append(nums[i])\n",
    "\treturn listn"
   ]
  },
  {
   "cell_type": "code",
   "execution_count": null,
   "id": "2ff9e40c",
   "metadata": {},
   "outputs": [],
   "source": [
    "https://edabit.com/challenge/h4SrMDnwPpmotn2cZ"
   ]
  },
  {
   "cell_type": "code",
   "execution_count": null,
   "id": "bb340ab7",
   "metadata": {},
   "outputs": [],
   "source": [
    "def sum_of_cubes(nums):\n",
    "\tq = 0\n",
    "\tif nums == []:\n",
    "\t\treturn 0\n",
    "\telse:\n",
    "\t\tfor i in range (len(nums)):\n",
    "\t\t\tq=q+nums[i]**3\n",
    "\t\treturn q"
   ]
  },
  {
   "cell_type": "code",
   "execution_count": null,
   "id": "96007640",
   "metadata": {},
   "outputs": [],
   "source": [
    "https://edabit.com/challenge/pYwnLBJHBbHaEEano"
   ]
  },
  {
   "cell_type": "code",
   "execution_count": null,
   "id": "994fd1ab",
   "metadata": {},
   "outputs": [],
   "source": [
    "def hash_plus_count(txt):\n",
    "\tp = 0\n",
    "\tq = 0\n",
    "\tlistn = []\n",
    "\tif txt == \"\":\n",
    "\t\treturn [0,0]\n",
    "\telse:\n",
    "\t\tfor i in range (len(txt)):\n",
    "\t\t\tif txt[i]==\"#\":\n",
    "\t\t\t\tp=p+1\n",
    "\t\t\tif txt[i]==\"+\":\n",
    "\t\t\t\tq=q+1\n",
    "\t\tlistn.append(p)\n",
    "\t\tlistn.append(q)\n",
    "\t\treturn listn"
   ]
  },
  {
   "cell_type": "code",
   "execution_count": null,
   "id": "8f0550bc",
   "metadata": {},
   "outputs": [],
   "source": [
    "https://edabit.com/challenge/iqaQLvS7yfGR2wJyL"
   ]
  },
  {
   "cell_type": "code",
   "execution_count": null,
   "id": "eb23396f",
   "metadata": {},
   "outputs": [],
   "source": [
    "def num_of_digits(num):\n",
    "\tr=str(num)\n",
    "\tif r[0]!=\"-\":\n",
    "\t\tq=len(r)\n",
    "\telse:\n",
    "\t\tq=len(r)-1\n",
    "\treturn q"
   ]
  },
  {
   "cell_type": "code",
   "execution_count": null,
   "id": "c3de452e",
   "metadata": {},
   "outputs": [],
   "source": [
    "https://edabit.com/challenge/PGXeFPN6buQDXXwPm"
   ]
  },
  {
   "cell_type": "code",
   "execution_count": null,
   "id": "3a4417a8",
   "metadata": {},
   "outputs": [],
   "source": [
    "def trace(lst):\n",
    "\tq=0\n",
    "\tfor i in range (len(lst)):\n",
    "\t\tfor j in range (len(lst[i])):\n",
    "\t\t\tif i==j:\n",
    "\t\t\t\tq=q+lst[i][i]\n",
    "\treturn q"
   ]
  },
  {
   "cell_type": "code",
   "execution_count": null,
   "id": "14f918b8",
   "metadata": {},
   "outputs": [],
   "source": [
    "https://edabit.com/challenge/jyGco3e82sNfYKvCj"
   ]
  },
  {
   "cell_type": "code",
   "execution_count": null,
   "id": "eb82423b",
   "metadata": {},
   "outputs": [],
   "source": [
    "def rev(n):\n",
    "\tif n<0:\n",
    "\t\tn=n*(-1)\n",
    "\tq=\"\"\n",
    "\twhile (n!=0):\n",
    "\t\tq=q+str(n%10)\n",
    "\t\tn=n//10\n",
    "\treturn q"
   ]
  },
  {
   "cell_type": "code",
   "execution_count": null,
   "id": "7a554fdf",
   "metadata": {},
   "outputs": [],
   "source": [
    "https://edabit.com/challenge/wZQzNPXkLrHMj4mmz"
   ]
  },
  {
   "cell_type": "code",
   "execution_count": null,
   "id": "3abd8e4d",
   "metadata": {},
   "outputs": [],
   "source": [
    "def derivative(b, m):\n",
    "\treturn (b*m**(b-1))"
   ]
  },
  {
   "cell_type": "code",
   "execution_count": null,
   "id": "1d33b9ca",
   "metadata": {},
   "outputs": [],
   "source": [
    "https://edabit.com/challenge/pPyAgyeNEvQsBytaR"
   ]
  },
  {
   "cell_type": "code",
   "execution_count": null,
   "id": "89bb8117",
   "metadata": {},
   "outputs": [],
   "source": [
    "def factorial(n):\n",
    "\tif n==0:\n",
    "\t\treturn 1\n",
    "\telse:\n",
    "\t\treturn n*factorial(n-1)"
   ]
  },
  {
   "cell_type": "code",
   "execution_count": null,
   "id": "39efcecd",
   "metadata": {},
   "outputs": [],
   "source": [
    "https://edabit.com/challenge/NvK8xMFNbHrLPL28G"
   ]
  },
  {
   "cell_type": "code",
   "execution_count": null,
   "id": "52831746",
   "metadata": {},
   "outputs": [],
   "source": [
    "def highest_digit(num):\n",
    "\tmaximum = 0\n",
    "\twhile (num!=0):\n",
    "\t\tif num%10 >= maximum:\n",
    "\t\t\tmaximum = num%10\n",
    "\t\tnum=num//10\n",
    "\treturn maximum"
   ]
  }
 ],
 "metadata": {
  "kernelspec": {
   "display_name": "Python 3",
   "language": "python",
   "name": "python3"
  },
  "language_info": {
   "codemirror_mode": {
    "name": "ipython",
    "version": 3
   },
   "file_extension": ".py",
   "mimetype": "text/x-python",
   "name": "python",
   "nbconvert_exporter": "python",
   "pygments_lexer": "ipython3",
   "version": "3.8.8"
  }
 },
 "nbformat": 4,
 "nbformat_minor": 5
}
